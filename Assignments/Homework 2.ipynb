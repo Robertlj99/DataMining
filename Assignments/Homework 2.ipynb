{
 "cells": [
  {
   "cell_type": "code",
   "execution_count": null,
   "id": "69b0f85f",
   "metadata": {},
   "outputs": [],
   "source": [
    "import numpy as np\n",
    "import matplotlib.pyplot as plt\n",
    "import pandas as pd\n",
    "\n",
    "#Read csv file...\n",
    "r = pd.read_csv('AG_NO3_fill_cells_remove_NAN.csv').dropna()\n",
    "#...create label column...\n",
    "r['label'] = 0\n",
    "#...set window size and quotient...\n",
    "window = 1000\n",
    "q = 99.997 #99.7 <-- Will give one false positive at base scale.\n",
    "TP = [] #<--to hold true positives\n",
    "FP = [] #<--to hold false positives\n",
    "length = len(r['NO3N'])\n",
    "\n",
    "for i in range(0,len(r['NO3N'])):\n",
    "    threshold = np.percentile(r['NO3N'][i:i+window],q)       \n",
    "    for j in range(len(r['NO3N'][i:i+window])):\n",
    "#        r['label'][i+j] = 1 if r['NO3N'][i+j] > threshold else 0\n",
    "        if(r['NO3N'][i+j] > threshold):\n",
    "            r['label'][i+j] = 1\n",
    "\n",
    "counter = 0\n",
    "for index, row in r.iterrows():\n",
    "    TP.append(0)\n",
    "    FP.append(0)\n",
    "    if row['label'] == 1:\n",
    "        counter = counter + 1\n",
    "        if row['Student_Flag'] == 1: \n",
    "            TP[-1] = row['NO3N']\n",
    "        else:\n",
    "            FP[-1] = row['NO3N']\n",
    "\n",
    "plt.scatter(range(len(r)),TP[:],c=\"green\", s=10, alpha=np.clip(TP[:],0,1))\n",
    "plt.scatter(range(len(r)),FP[:],c=\"red\", s=10, alpha=np.clip(FP[:],0,1))\n",
    "plt.show()"
   ]
  },
  {
   "cell_type": "code",
   "execution_count": null,
   "id": "b970952e",
   "metadata": {},
   "outputs": [],
   "source": [
    "import numpy as np\n",
    "import matplotlib.pyplot as plt\n",
    "import pandas as pd"
   ]
  },
  {
   "cell_type": "code",
   "execution_count": 59,
   "id": "03fb1019-6d3b-4551-9e0f-23a151eafe2b",
   "metadata": {},
   "outputs": [
    {
     "name": "stdout",
     "output_type": "stream",
     "text": [
      "                  Date   NO3N  Student_Flag  label\n",
      "15803  6/28/2017 22:59  1.338           0.0      0\n",
      "15804  6/28/2017 23:29  1.335           0.0      0\n",
      "15805  6/28/2017 23:59  1.286           0.0      0\n",
      "15806   6/29/2017 0:29  1.288           0.0      0\n",
      "15807   6/29/2017 0:59  1.278           0.0      0\n",
      "             Date   NO3N  Student_Flag  label\n",
      "0  8/2/2016 12:29  0.071           0.0      0\n",
      "1  8/2/2016 12:59  0.030           0.0      0\n",
      "2  8/2/2016 13:29  0.030           0.0      0\n",
      "3  8/2/2016 13:59  0.030           0.0      0\n",
      "4  8/2/2016 14:29  0.030           0.0      0\n"
     ]
    }
   ],
   "source": [
    "#Read csv file...\n",
    "r = pd.read_csv('AG_NO3_fill_cells_remove_NAN.csv').dropna()\n",
    "r['label'] = 0\n",
    "print(r.tail())\n",
    "print(r.head())"
   ]
  },
  {
   "cell_type": "code",
   "execution_count": null,
   "id": "ba82d324-d16c-40ac-8f50-5e3a4b20f98a",
   "metadata": {},
   "outputs": [],
   "source": [
    "small_r = r[:50]\n",
    "print(small_r.tail())"
   ]
  },
  {
   "cell_type": "code",
   "execution_count": 61,
   "id": "5490e3fb-1dff-4af3-9bf5-6d62bc370a5b",
   "metadata": {},
   "outputs": [],
   "source": [
    "#Working model without the else statement\n",
    "window = 1000\n",
    "q = 99.997\n",
    "size = len(r) - window + 1\n",
    "for i in range(size):\n",
    "    threshold = np.percentile(r['NO3N'][i:i+window],q)\n",
    "    for j in range(i, i+window):\n",
    "        if r['NO3N'][j] > threshold:\n",
    "            r.loc[j, 'label'] = 1"
   ]
  },
  {
   "cell_type": "code",
   "execution_count": 78,
   "id": "39c9add1-bfb6-4d12-852b-77aa9a260a19",
   "metadata": {},
   "outputs": [],
   "source": [
    "anomalies = [x for x in r['label'] if x == 1]"
   ]
  },
  {
   "cell_type": "code",
   "execution_count": 79,
   "id": "6449ae5b-4415-4202-879c-b85163ccb913",
   "metadata": {},
   "outputs": [
    {
     "name": "stdout",
     "output_type": "stream",
     "text": [
      "148\n"
     ]
    }
   ],
   "source": [
    "print(len(anomalies))"
   ]
  },
  {
   "cell_type": "code",
   "execution_count": 80,
   "id": "5a70ca5e-4c82-4faf-83cd-e0f376c0cc7d",
   "metadata": {},
   "outputs": [],
   "source": [
    "window = 1000\n",
    "q = 99.997\n",
    "size = len(r) - window + 1\n",
    "for i in range(size):\n",
    "    threshold = np.percentile(r['NO3N'][i:i+window],q)\n",
    "    for j in range(i, i+window):\n",
    "        if r['NO3N'][j] > threshold:\n",
    "            r.loc[j, 'label'] = 1\n",
    "        else:\n",
    "            r.loc[j, 'label'] = 0"
   ]
  },
  {
   "cell_type": "code",
   "execution_count": 87,
   "id": "412c86d5-4831-48e2-932e-630c405765db",
   "metadata": {},
   "outputs": [],
   "source": [
    "anomalies = [x for x in r['label'] if x == 1]"
   ]
  },
  {
   "cell_type": "code",
   "execution_count": 88,
   "id": "2a4ce627-0d69-42bd-8594-e8a9940b857d",
   "metadata": {},
   "outputs": [
    {
     "name": "stdout",
     "output_type": "stream",
     "text": [
      "68\n"
     ]
    }
   ],
   "source": [
    "print(len(anomalies))"
   ]
  },
  {
   "cell_type": "code",
   "execution_count": 83,
   "id": "f22b4179-0636-4b7a-baaf-42ce9b75c3a9",
   "metadata": {},
   "outputs": [
    {
     "name": "stdout",
     "output_type": "stream",
     "text": [
      "[1, 1, 1, 1, 1, 1, 1, 1, 1, 1, 1, 1, 1, 1, 1, 1, 1, 1, 1, 1, 1, 1, 1, 1, 1, 1, 1, 1, 1, 1, 1, 1, 1, 1, 1, 1, 1, 1, 1, 1, 1, 1, 1, 1, 1, 1, 1, 1, 1, 1, 1, 1, 1, 1, 1, 1, 1, 1, 1, 1, 1, 1, 1, 1, 1, 1, 1, 1]\n"
     ]
    }
   ],
   "source": [
    "print(anomalies)"
   ]
  },
  {
   "cell_type": "code",
   "execution_count": 90,
   "id": "c999691d-edec-48e5-9422-5b9f0021a08c",
   "metadata": {},
   "outputs": [],
   "source": [
    "TP = []\n",
    "FP = []\n",
    "counter = 0\n",
    "for index, row in r.iterrows():\n",
    "    TP.append(0)\n",
    "    FP.append(0)\n",
    "    if row['label'] == 1:\n",
    "        counter = counter + 1\n",
    "        if row['Student_Flag'] == 1: \n",
    "            TP[-1] = row['NO3N']\n",
    "        else:\n",
    "            FP[-1] = row['NO3N']"
   ]
  },
  {
   "cell_type": "code",
   "execution_count": 94,
   "id": "e91e393c-6591-451c-b44c-c315cbd6642c",
   "metadata": {},
   "outputs": [
    {
     "name": "stdout",
     "output_type": "stream",
     "text": [
      "10\n"
     ]
    }
   ],
   "source": [
    "TP2 = [x for x in TP if x > 0]\n",
    "print(len(TP2))"
   ]
  },
  {
   "cell_type": "code",
   "execution_count": 96,
   "id": "ed942150-acb7-4927-930b-12a652a6d216",
   "metadata": {},
   "outputs": [
    {
     "name": "stdout",
     "output_type": "stream",
     "text": [
      "58\n"
     ]
    }
   ],
   "source": [
    "FP2 = [x for x in FP if x > 0]\n",
    "print(len(FP2))"
   ]
  },
  {
   "cell_type": "code",
   "execution_count": null,
   "id": "0075adfa-7528-4a10-8e2e-b2490c8be84f",
   "metadata": {},
   "outputs": [],
   "source": []
  }
 ],
 "metadata": {
  "kernelspec": {
   "display_name": "Python 3 (ipykernel)",
   "language": "python",
   "name": "python3"
  },
  "language_info": {
   "codemirror_mode": {
    "name": "ipython",
    "version": 3
   },
   "file_extension": ".py",
   "mimetype": "text/x-python",
   "name": "python",
   "nbconvert_exporter": "python",
   "pygments_lexer": "ipython3",
   "version": "3.9.18"
  }
 },
 "nbformat": 4,
 "nbformat_minor": 5
}
